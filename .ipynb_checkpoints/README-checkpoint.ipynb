{
 "cells": [
  {
   "cell_type": "markdown",
   "id": "37b6b1ab",
   "metadata": {},
   "source": [
    "# PenalizedGLMM\n",
    "\n",
    "PenalizedGLMM is a Julia package that fits Lasso regularization paths for high-dimensional genetic data using block coordinate descent for linear or logistic mixed models.\n",
    "\n",
    "## Installation\n",
    "\n",
    "This package requires Julia v1.6.2 or later. The package is not yet registered and can be installed via"
   ]
  },
  {
   "cell_type": "code",
   "execution_count": 6,
   "id": "76e62bed",
   "metadata": {},
   "outputs": [],
   "source": [
    "using Pkg\n",
    "Pkg.add(url = \"https://github.com/julstpierre/PenalizedGLMM.jl\")"
   ]
  },
  {
   "cell_type": "code",
   "execution_count": null,
   "id": "faadddf3",
   "metadata": {},
   "outputs": [],
   "source": [
    "using PenalizedGLMM"
   ]
  },
  {
   "cell_type": "markdown",
   "id": "df35d7d3",
   "metadata": {},
   "source": [
    "## Example data sets\n",
    "\n",
    "The data folder of the package contains genetic data for 2504 individuals and 5000 SNPs from the [1000Genomes](https://www.internationalgenome.org/data/) Project in PLINK format. The covariate.txt file contains the population from which each individual belongs, the first 10 PCs, sex and training/test sets assignments. We also simulated a covariate AGE and a binary phenotype for all individuals. Finally, we also include a GRM in the form of a compressed .txt file that was calculated using the function `grm` from [SnpArrays.jl](https://openmendel.github.io/SnpArrays.jl/latest/)."
   ]
  },
  {
   "cell_type": "code",
   "execution_count": 2,
   "id": "b3cef54b",
   "metadata": {},
   "outputs": [],
   "source": [
    "const datadir = \"data/\"\n",
    "const covfile = datadir * \"covariate.txt\"\n",
    "const plinkfile = datadir * \"geno\"\n",
    "const grmfile = datadir * \"grm.txt.gz\";"
   ]
  },
  {
   "cell_type": "markdown",
   "id": "ffc3cb21",
   "metadata": {},
   "source": [
    "## 1. Estimation of variance components under the null\n",
    "\n",
    "We read the example covariate file and find the corresponding rows for subjects in the train and test sets:"
   ]
  },
  {
   "cell_type": "code",
   "execution_count": 3,
   "id": "5763b593",
   "metadata": {},
   "outputs": [],
   "source": [
    "using CSV, DataFrames\n",
    "covdf = CSV.read(covfile, DataFrame)\n",
    "trainrowinds = findall(covdf.train)\n",
    "testrowinds = setdiff(1:nrow(covdf), trainrowinds);"
   ]
  },
  {
   "cell_type": "markdown",
   "id": "13dd6470",
   "metadata": {},
   "source": [
    "We fit the null logistic mixed model on the training set, with AGE, SEX as fixed effects and one random effect with variance-covariance structure parametrized by the GRM:"
   ]
  },
  {
   "cell_type": "code",
   "execution_count": 4,
   "id": "bb42ca1e",
   "metadata": {},
   "outputs": [],
   "source": [
    "using GLM\n",
    "nullmodel = pglmm_null(@formula(y ~ AGE + SEX) \n",
    "                      ,covfile\n",
    "                      ,grmfile \n",
    "                      ,covrowinds = trainrowinds \n",
    "                      ,grminds = trainrowinds);"
   ]
  },
  {
   "cell_type": "markdown",
   "id": "084822a0",
   "metadata": {},
   "source": [
    "By default, the dispersion parameter φ for the binomial distribution is equal to 1. The estimated variance components are equal to"
   ]
  },
  {
   "cell_type": "code",
   "execution_count": 5,
   "id": "eab8cc58",
   "metadata": {},
   "outputs": [
    {
     "name": "stdout",
     "output_type": "stream",
     "text": [
      "[1.0, 0.6427207752071908]"
     ]
    }
   ],
   "source": [
    "print([nullmodel.φ, nullmodel.τ[1]])"
   ]
  },
  {
   "cell_type": "markdown",
   "id": "a8ee343c",
   "metadata": {},
   "source": [
    "The estimated intercept and fixed effects for AGE and SEX are equal to"
   ]
  },
  {
   "cell_type": "code",
   "execution_count": 11,
   "id": "fdd6cf31",
   "metadata": {},
   "outputs": [
    {
     "name": "stdout",
     "output_type": "stream",
     "text": [
      "[-0.7236231919887682, 0.0003074705440105167, 0.023197298500290876]"
     ]
    }
   ],
   "source": [
    "print(nullmodel.α)"
   ]
  },
  {
   "cell_type": "markdown",
   "id": "79f711ed",
   "metadata": {},
   "source": [
    "We can check that the AI-REML algorithm has effectively converged:"
   ]
  },
  {
   "cell_type": "code",
   "execution_count": 12,
   "id": "78c486c7",
   "metadata": {},
   "outputs": [
    {
     "name": "stdout",
     "output_type": "stream",
     "text": [
      "true"
     ]
    }
   ],
   "source": [
    "print(nullmodel.converged)"
   ]
  },
  {
   "cell_type": "markdown",
   "id": "ce8d9def",
   "metadata": {},
   "source": [
    "## 2. Penalized logistic mixed model\n",
    "After obtaining the variance components estimates under the null, we fit a penalized logistic mixed model using a lasso regularization term on the SNP effects in order to perform variable selection:"
   ]
  },
  {
   "cell_type": "code",
   "execution_count": null,
   "id": "452b4d3d",
   "metadata": {},
   "outputs": [],
   "source": [
    "modelfit = pglmm(nullmodel, plinkfile, geneticrowinds = trainrowinds)"
   ]
  },
  {
   "cell_type": "markdown",
   "id": "c1eb9602",
   "metadata": {},
   "source": [
    "The coefficients for the genetic predictors at each value of λ are stored in `modelfit.betas`:"
   ]
  },
  {
   "cell_type": "code",
   "execution_count": 7,
   "id": "213b9cea",
   "metadata": {},
   "outputs": [
    {
     "data": {
      "text/plain": [
       "5000×100 view(::Matrix{Float64}, :, 1:100) with eltype Float64:\n",
       " 0.0  0.0  0.0  0.0  0.0  0.0  0.0  …   0.0         0.0         0.0\n",
       " 0.0  0.0  0.0  0.0  0.0  0.0  0.0      0.0         0.0         0.0\n",
       " 0.0  0.0  0.0  0.0  0.0  0.0  0.0      0.0         0.0         0.0\n",
       " 0.0  0.0  0.0  0.0  0.0  0.0  0.0      0.0         0.0         0.0\n",
       " 0.0  0.0  0.0  0.0  0.0  0.0  0.0      0.0         0.0         0.0\n",
       " 0.0  0.0  0.0  0.0  0.0  0.0  0.0  …   0.0         0.0         0.0\n",
       " 0.0  0.0  0.0  0.0  0.0  0.0  0.0      0.0693873   0.0705072   0.0716954\n",
       " 0.0  0.0  0.0  0.0  0.0  0.0  0.0      0.0         0.0         0.0\n",
       " 0.0  0.0  0.0  0.0  0.0  0.0  0.0      0.0266505   0.0272976   0.0276218\n",
       " 0.0  0.0  0.0  0.0  0.0  0.0  0.0      0.0337146   0.0327807   0.0316525\n",
       " 0.0  0.0  0.0  0.0  0.0  0.0  0.0  …   0.0         0.0         0.0\n",
       " 0.0  0.0  0.0  0.0  0.0  0.0  0.0      0.0         0.0         0.0\n",
       " 0.0  0.0  0.0  0.0  0.0  0.0  0.0      0.0         0.0         0.0\n",
       " ⋮                        ⋮         ⋱                          \n",
       " 0.0  0.0  0.0  0.0  0.0  0.0  0.0      0.0         0.0         0.0\n",
       " 0.0  0.0  0.0  0.0  0.0  0.0  0.0      0.0         0.0         0.0\n",
       " 0.0  0.0  0.0  0.0  0.0  0.0  0.0  …   0.0         0.0         0.0\n",
       " 0.0  0.0  0.0  0.0  0.0  0.0  0.0     -0.107755   -0.110852   -0.113882\n",
       " 0.0  0.0  0.0  0.0  0.0  0.0  0.0      0.0         0.0         0.0\n",
       " 0.0  0.0  0.0  0.0  0.0  0.0  0.0      0.0         0.0         0.0\n",
       " 0.0  0.0  0.0  0.0  0.0  0.0  0.0      0.0         0.0         0.0\n",
       " 0.0  0.0  0.0  0.0  0.0  0.0  0.0  …   0.0         0.0         0.0\n",
       " 0.0  0.0  0.0  0.0  0.0  0.0  0.0     -0.0972381  -0.100543   -0.103532\n",
       " 0.0  0.0  0.0  0.0  0.0  0.0  0.0      0.0         0.0         0.0\n",
       " 0.0  0.0  0.0  0.0  0.0  0.0  0.0      0.0         0.0         0.0\n",
       " 0.0  0.0  0.0  0.0  0.0  0.0  0.0      0.0         0.0         0.0"
      ]
     },
     "execution_count": 7,
     "metadata": {},
     "output_type": "execute_result"
    }
   ],
   "source": [
    "modelfit.betas"
   ]
  },
  {
   "cell_type": "markdown",
   "id": "b0b42e33",
   "metadata": {},
   "source": [
    "We can calculate the number of non-zero coefficients for the genetic predictors at each value of λ:"
   ]
  },
  {
   "cell_type": "code",
   "execution_count": 8,
   "id": "ad06fff8",
   "metadata": {},
   "outputs": [
    {
     "data": {
      "text/plain": [
       "1×100 adjoint(::Vector{Int64}) with eltype Int64:\n",
       " 0  2  2  5  5  5  5  5  5  6  6  7  9  …  1027  1032  1034  1036  1038  1042"
      ]
     },
     "execution_count": 8,
     "metadata": {},
     "output_type": "execute_result"
    }
   ],
   "source": [
    "[length(findall(modelfit.betas[:, j] .!= 0)) for j in 1:size(modelfit.betas, 2)]'"
   ]
  },
  {
   "cell_type": "markdown",
   "id": "b7b38361",
   "metadata": {},
   "source": [
    "To find the optimal λ, we can use AIC or BIC as model selection criteria:"
   ]
  },
  {
   "cell_type": "code",
   "execution_count": 9,
   "id": "f099d645",
   "metadata": {},
   "outputs": [
    {
     "name": "stdout",
     "output_type": "stream",
     "text": [
      "[30.28301918732795, 55.440282469160415]"
     ]
    }
   ],
   "source": [
    "pglmmAIC = PenalizedGLMM.GIC(modelfit, :AIC)\n",
    "pglmmBIC = PenalizedGLMM.GIC(modelfit, :BIC);\n",
    "print(modelfit.lambda[[pglmmAIC, pglmmBIC]])"
   ]
  },
  {
   "cell_type": "markdown",
   "id": "64f5737d",
   "metadata": {},
   "source": [
    "The estimated values for the intercept and non-genetic covariates are stored in `modelfit.a0` and `modelfit.alphas` respectively:"
   ]
  },
  {
   "cell_type": "code",
   "execution_count": 10,
   "id": "48a1563e",
   "metadata": {},
   "outputs": [
    {
     "data": {
      "text/plain": [
       "3×100 Matrix{Float64}:\n",
       "  9.00291e-18   0.0338059    0.0141006   …  -23.9261      -24.2947\n",
       " -2.70731e-17   4.16088e-5   3.2427e-5       -0.00187031   -0.00185894\n",
       " -4.32384e-16  -0.00111175  -0.00326714      -0.122787     -0.124612"
      ]
     },
     "execution_count": 10,
     "metadata": {},
     "output_type": "execute_result"
    }
   ],
   "source": [
    "[modelfit.a0'; modelfit.alphas]"
   ]
  },
  {
   "cell_type": "markdown",
   "id": "11ca8db7",
   "metadata": {},
   "source": [
    "## 3. Polygenic Risk Score (PRS)\n",
    "\n",
    "We can calculate a PRS for each individual in the test set using the predict function. By default, predictions are obtained on the full lasso path, but it is also possible to provide a vector containing indices for the values of the regulatization parameter λ. For example, we can predict a PRS for each individual in the test set using the estimated coefficients from the models obtained by using AIC and BIC respectively:"
   ]
  },
  {
   "cell_type": "code",
   "execution_count": 180,
   "id": "864be8b0",
   "metadata": {},
   "outputs": [],
   "source": [
    "using Latexify\n",
    "yhat = PenalizedGLMM.predict(modelfit\n",
    "                            ,covfile\n",
    "                            ,grmfile\n",
    "                            ,plinkfile\n",
    "                            ,covrowinds = testrowinds\n",
    "                            ,covars = [\"AGE\", \"SEX\"]\n",
    "                            ,geneticrowinds = testrowinds\n",
    "                            ,grmrowinds = testrowinds\n",
    "                            ,grmcolinds = trainrowinds\n",
    "                            ,s = [pglmmAIC, pglmmBIC]\n",
    "                            ,outtype = :prob\n",
    "                            );"
   ]
  },
  {
   "cell_type": "markdown",
   "id": "bd9f7ad8",
   "metadata": {},
   "source": [
    "The predicted probabilities for the first 5 subjects are equal to:"
   ]
  },
  {
   "cell_type": "code",
   "execution_count": 183,
   "id": "787baca4",
   "metadata": {},
   "outputs": [
    {
     "data": {
      "text/latex": [
       "\\begin{tabular}\n",
       "{r | r | r}\n",
       "IID & AIC & BIC \\\\\n",
       "\\hline\n",
       "HG00099 & 0.3349 & 0.4722 \\\\\n",
       "HG00105 & 0.2546 & 0.3570 \\\\\n",
       "HG00108 & 0.6136 & 0.5570 \\\\\n",
       "HG00119 & 0.6820 & 0.5704 \\\\\n",
       "HG00125 & 0.2834 & 0.3448 \\\\\n",
       "\\end{tabular}\n"
      ],
      "text/markdown": [
       "|     IID |    AIC |    BIC |\n",
       "| -------:| ------:| ------:|\n",
       "| HG00099 | 0.3349 | 0.4722 |\n",
       "| HG00105 | 0.2546 | 0.3570 |\n",
       "| HG00108 | 0.6136 | 0.5570 |\n",
       "| HG00119 | 0.6820 | 0.5704 |\n",
       "| HG00125 | 0.2834 | 0.3448 |\n"
      ],
      "text/plain": [
       "      IID    AIC    BIC\n",
       "  ––––––– –––––– ––––––\n",
       "  HG00099 0.3349 0.4722\n",
       "  HG00105 0.2546 0.3570\n",
       "  HG00108 0.6136 0.5570\n",
       "  HG00119 0.6820 0.5704\n",
       "  HG00125 0.2834 0.3448"
      ]
     },
     "execution_count": 183,
     "metadata": {},
     "output_type": "execute_result"
    }
   ],
   "source": [
    "DataFrame(hcat(covdf.IID[testrowinds], yhat)[1:5, :], [:IID, :AIC, :BIC]) |> \n",
    "    x-> latexify(x, fmt = \"%5.4f\", latex = false)"
   ]
  },
  {
   "cell_type": "markdown",
   "id": "463eebc1",
   "metadata": {},
   "source": [
    "We can determine which model provides the best prediction accuracy by comparing AUCs for the PRSs obtained via AIC and BIC. We use the [ROCAnalysis.jl](https://juliapackages.com/p/rocanalysis) package to calculate AUC for each model:"
   ]
  },
  {
   "cell_type": "code",
   "execution_count": 160,
   "id": "785de14f",
   "metadata": {},
   "outputs": [
    {
     "data": {
      "text/latex": [
       "\\begin{tabular}\n",
       "{r | r | r}\n",
       "{\\textasciitilde} & AIC & BIC \\\\\n",
       "\\hline\n",
       "AUC & 0.7821 & 0.7603 \\\\\n",
       "\\end{tabular}\n"
      ],
      "text/markdown": [
       "|   ~ |    AIC |    BIC |\n",
       "| ---:| ------:| ------:|\n",
       "| AUC | 0.7821 | 0.7603 |\n"
      ],
      "text/plain": [
       "    ~    AIC    BIC\n",
       "  ––– –––––– ––––––\n",
       "  AUC 0.7821 0.7603"
      ]
     },
     "execution_count": 160,
     "metadata": {},
     "output_type": "execute_result"
    }
   ],
   "source": [
    "using ROCAnalysis\n",
    "ctrls = (covdf[testrowinds,:y] .== 0)\n",
    "cases = (covdf[testrowinds,:y] .== 1)\n",
    "\n",
    "[ROCAnalysis.auc(roc(yhat[ctrls, i], yhat[cases, i])) for i in 1:2]' |> \n",
    "    x-> DataFrame(hcat(\"AUC\", x), [:~, :AIC, :BIC]) |> x-> latexify(x, fmt = \"%5.4f\", latex = false)"
   ]
  },
  {
   "cell_type": "markdown",
   "id": "a1777b0f",
   "metadata": {},
   "source": [
    "We see that the model based on AIC resulted in a higher prediction accuracy, but the model based on BIC has selected 12 times less predictors than the model based on AIC:"
   ]
  },
  {
   "cell_type": "code",
   "execution_count": 159,
   "id": "40c78612",
   "metadata": {},
   "outputs": [
    {
     "data": {
      "text/latex": [
       "\\begin{tabular}\n",
       "{r | r | r}\n",
       "{\\textasciitilde} & AIC & BIC \\\\\n",
       "\\hline\n",
       "Number of predictors & 181 & 15 \\\\\n",
       "\\end{tabular}\n"
      ],
      "text/markdown": [
       "|                    ~ | AIC | BIC |\n",
       "| --------------------:| ---:| ---:|\n",
       "| Number of predictors | 181 |  15 |\n"
      ],
      "text/plain": [
       "                     ~ AIC BIC\n",
       "  –––––––––––––––––––– ––– –––\n",
       "  Number of predictors 181  15"
      ]
     },
     "execution_count": 159,
     "metadata": {},
     "output_type": "execute_result"
    }
   ],
   "source": [
    "[length(findall(modelfit.betas[:,k] .!= 0)) for k in (pglmmAIC, pglmmBIC)]' |> \n",
    "    x-> DataFrame(hcat(\"Number of predictors\", x), [:~, :AIC, :BIC]) |> x-> latexify(x, fmt = \"%5.0f\", latex = false)"
   ]
  },
  {
   "cell_type": "markdown",
   "id": "0b06a05d",
   "metadata": {},
   "source": [
    "If we know which predictors are truly causal (for simulated data), then we can compare the true positive rate (TPR), false positive rate (FPR) and false discovery rate (FDR) of each model selection strategy:"
   ]
  },
  {
   "cell_type": "code",
   "execution_count": 185,
   "id": "cb4e147f",
   "metadata": {},
   "outputs": [
    {
     "data": {
      "text/latex": [
       "\\begin{tabular}\n",
       "{r | r | r | r}\n",
       "Model & TPR & FPR & FDR \\\\\n",
       "\\hline\n",
       "AIC & 0.5800 & 0.0307 & 0.8398 \\\\\n",
       "BIC & 0.2200 & 0.0008 & 0.2667 \\\\\n",
       "\\end{tabular}\n"
      ],
      "text/markdown": [
       "| Model |    TPR |    FPR |    FDR |\n",
       "| -----:| ------:| ------:| ------:|\n",
       "|   AIC | 0.5800 | 0.0307 | 0.8398 |\n",
       "|   BIC | 0.2200 | 0.0008 | 0.2667 |\n"
      ],
      "text/plain": [
       "  Model    TPR    FPR    FDR\n",
       "  ––––– –––––– –––––– ––––––\n",
       "    AIC 0.5800 0.0307 0.8398\n",
       "    BIC 0.2200 0.0008 0.2667"
      ]
     },
     "execution_count": 185,
     "metadata": {},
     "output_type": "execute_result"
    }
   ],
   "source": [
    "betas = CSV.read(datadir * \"betas.txt\", DataFrame)\n",
    "true_betas = findall(betas.beta .!= 0)\n",
    "\n",
    "AIC_betas = findall(modelfit.betas[:,pglmmAIC] .!= 0)\n",
    "BIC_betas = findall(modelfit.betas[:,pglmmBIC] .!= 0);\n",
    "\n",
    "TPR = [length(intersect(true_betas, x)) / length(true_betas) for x in (AIC_betas, BIC_betas)]' \n",
    "\n",
    "FPR = [(length(x) - length(intersect(true_betas, x))) / (size(modelfit.betas, 1) - length(true_betas)) for x in (AIC_betas, BIC_betas)]'\n",
    "\n",
    "FDR = [(length(x) - length(intersect(true_betas, x))) / length(x) for x in (AIC_betas, BIC_betas)]'\n",
    "\n",
    "DataFrame(hcat([\"AIC\", \"BIC\"], [TPR; FPR; FDR]'), [:Model, :TPR, :FPR, :FDR]) |> x-> latexify(x, fmt = \"%5.4f\", latex = false)"
   ]
  }
 ],
 "metadata": {
  "kernelspec": {
   "display_name": "Julia 1.7.2",
   "language": "julia",
   "name": "julia-1.7"
  },
  "language_info": {
   "file_extension": ".jl",
   "mimetype": "application/julia",
   "name": "julia",
   "version": "1.7.2"
  }
 },
 "nbformat": 4,
 "nbformat_minor": 5
}
