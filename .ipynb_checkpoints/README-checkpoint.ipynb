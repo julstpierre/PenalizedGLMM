{
 "cells": [
  {
   "cell_type": "markdown",
   "id": "37b6b1ab",
   "metadata": {},
   "source": [
    "# PenalizedGLMM\n",
    "\n",
    "PenalizedGLMM is a Julia package that fits Lasso regularization paths for high-dimensional genetic data using block coordinate descent for linear or logistic mixed models.\n",
    "\n",
    "## Installation\n",
    "\n",
    "This package requires Julia v1.6.2 or later. The package is not yet registered and can be installed via"
   ]
  },
  {
   "cell_type": "code",
   "execution_count": 6,
   "id": "76e62bed",
   "metadata": {},
   "outputs": [],
   "source": [
    "using Pkg\n",
    "Pkg.add(url = \"https://github.com/julstpierre/PenalizedGLMM.jl\")"
   ]
  },
  {
   "cell_type": "code",
   "execution_count": 1,
   "id": "faadddf3",
   "metadata": {},
   "outputs": [],
   "source": [
    "using PenalizedGLMM"
   ]
  },
  {
   "cell_type": "markdown",
   "id": "df35d7d3",
   "metadata": {},
   "source": [
    "## Example data sets\n",
    "\n",
    "The data folder of the package contains genetic data for 2504 individuals and 5000 SNPs from the [1000Genomes](https://www.internationalgenome.org/data/) Project in PLINK format. The covariate.txt file contains the population from which each individual belongs, the first 10 PCs, sex and training/test sets assignments. We also simulated a covariate AGE and a binary phenotype for all individuals. Finally, we also include a GRM in the form of a compressed .txt file that was calculated using the function `grm` from [SnpArrays.jl](https://openmendel.github.io/SnpArrays.jl/latest/)."
   ]
  },
  {
   "cell_type": "code",
   "execution_count": 2,
   "id": "b3cef54b",
   "metadata": {},
   "outputs": [],
   "source": [
    "const datadir = \"data/\"\n",
    "const covfile = datadir * \"covariate.txt\"\n",
    "const plinkfile = datadir * \"geno\"\n",
    "const grmfile = datadir * \"grm.txt.gz\";"
   ]
  },
  {
   "cell_type": "markdown",
   "id": "ffc3cb21",
   "metadata": {},
   "source": [
    "## 1. Estimation of variance components under the null\n",
    "\n",
    "We read the example covariate file and find the corresponding rows for subjects in the train and test sets:"
   ]
  },
  {
   "cell_type": "code",
   "execution_count": 3,
   "id": "5763b593",
   "metadata": {},
   "outputs": [],
   "source": [
    "using CSV, DataFrames\n",
    "covdf = CSV.read(covfile, DataFrame)\n",
    "trainrowinds = findall(covdf.train)\n",
    "testrowinds = setdiff(1:nrow(covdf), trainrowinds);"
   ]
  },
  {
   "cell_type": "markdown",
   "id": "13dd6470",
   "metadata": {},
   "source": [
    "We fit the null logistic mixed model on the training set, with AGE, SEX as fixed effects and one random effect with variance-covariance structure parametrized by the GRM:"
   ]
  },
  {
   "cell_type": "code",
   "execution_count": 4,
   "id": "bb42ca1e",
   "metadata": {},
   "outputs": [],
   "source": [
    "using GLM\n",
    "nullmodel = pglmm_null(@formula(y ~ AGE + SEX) \n",
    "                      ,covfile\n",
    "                      ,grmfile \n",
    "                      ,covrowinds = trainrowinds \n",
    "                      ,grminds = trainrowinds);"
   ]
  },
  {
   "cell_type": "markdown",
   "id": "084822a0",
   "metadata": {},
   "source": [
    "By default, the dispersion parameter φ for the binomial distribution is equal to 1. The estimated variance components are equal to"
   ]
  },
  {
   "cell_type": "code",
   "execution_count": 5,
   "id": "eab8cc58",
   "metadata": {},
   "outputs": [
    {
     "name": "stdout",
     "output_type": "stream",
     "text": [
      "[1.0, 0.718662801592849]"
     ]
    }
   ],
   "source": [
    "print([nullmodel.φ, nullmodel.τ[1]])"
   ]
  },
  {
   "cell_type": "markdown",
   "id": "a8ee343c",
   "metadata": {},
   "source": [
    "The estimated intercept and fixed effects for AGE and SEX are equal to"
   ]
  },
  {
   "cell_type": "code",
   "execution_count": 6,
   "id": "fdd6cf31",
   "metadata": {},
   "outputs": [
    {
     "name": "stdout",
     "output_type": "stream",
     "text": [
      "[-0.03317721475728723, -0.009395389811651098, 0.028378808111444494]"
     ]
    }
   ],
   "source": [
    "print(nullmodel.α)"
   ]
  },
  {
   "cell_type": "markdown",
   "id": "79f711ed",
   "metadata": {},
   "source": [
    "We can check that the AI-REML algorithm has effectively converged:"
   ]
  },
  {
   "cell_type": "code",
   "execution_count": 7,
   "id": "78c486c7",
   "metadata": {},
   "outputs": [
    {
     "name": "stdout",
     "output_type": "stream",
     "text": [
      "true"
     ]
    }
   ],
   "source": [
    "print(nullmodel.converged)"
   ]
  },
  {
   "cell_type": "markdown",
   "id": "ce8d9def",
   "metadata": {},
   "source": [
    "## 2. Penalized logistic mixed model\n",
    "After obtaining the variance components estimates under the null, we fit a penalized logistic mixed model using a lasso regularization term on the SNP effects in order to perform variable selection:"
   ]
  },
  {
   "cell_type": "code",
   "execution_count": null,
   "id": "452b4d3d",
   "metadata": {},
   "outputs": [],
   "source": [
    "modelfit = pglmm(nullmodel, plinkfile, geneticrowinds = trainrowinds)"
   ]
  },
  {
   "cell_type": "markdown",
   "id": "c1eb9602",
   "metadata": {},
   "source": [
    "The coefficients for the genetic predictors at each value of λ are stored in `modelfit.betas`:"
   ]
  },
  {
   "cell_type": "code",
   "execution_count": 34,
   "id": "a28fb482",
   "metadata": {},
   "outputs": [
    {
     "data": {
      "text/plain": [
       "5000×100 Matrix{Float64}:\n",
       " 0.0  0.0  0.0  0.0  0.0  0.0  0.0  …   0.0         0.0         0.0\n",
       " 0.0  0.0  0.0  0.0  0.0  0.0  0.0      0.0         0.0         0.0\n",
       " 0.0  0.0  0.0  0.0  0.0  0.0  0.0      0.0         0.0         0.0\n",
       " 0.0  0.0  0.0  0.0  0.0  0.0  0.0     -0.021803   -0.0240124  -0.0265078\n",
       " 0.0  0.0  0.0  0.0  0.0  0.0  0.0      0.0         0.0         0.0\n",
       " 0.0  0.0  0.0  0.0  0.0  0.0  0.0  …   0.0         0.0         0.0\n",
       " 0.0  0.0  0.0  0.0  0.0  0.0  0.0      0.0         0.0         0.0\n",
       " 0.0  0.0  0.0  0.0  0.0  0.0  0.0      0.0         0.0         0.0\n",
       " 0.0  0.0  0.0  0.0  0.0  0.0  0.0      0.0         0.0         0.0\n",
       " 0.0  0.0  0.0  0.0  0.0  0.0  0.0      0.0         0.0         0.0\n",
       " 0.0  0.0  0.0  0.0  0.0  0.0  0.0  …   0.0         0.0         0.0\n",
       " 0.0  0.0  0.0  0.0  0.0  0.0  0.0      0.0         0.0         0.0\n",
       " 0.0  0.0  0.0  0.0  0.0  0.0  0.0      0.0         0.0         0.0\n",
       " ⋮                        ⋮         ⋱                          \n",
       " 0.0  0.0  0.0  0.0  0.0  0.0  0.0      0.0         0.0         0.0\n",
       " 0.0  0.0  0.0  0.0  0.0  0.0  0.0      0.0         0.0         0.0\n",
       " 0.0  0.0  0.0  0.0  0.0  0.0  0.0  …   0.0         0.0         0.0\n",
       " 0.0  0.0  0.0  0.0  0.0  0.0  0.0      0.425332    0.432151    0.438802\n",
       " 0.0  0.0  0.0  0.0  0.0  0.0  0.0      0.0         0.0         0.0\n",
       " 0.0  0.0  0.0  0.0  0.0  0.0  0.0      0.0         0.0         0.0\n",
       " 0.0  0.0  0.0  0.0  0.0  0.0  0.0      0.0         0.0         0.0\n",
       " 0.0  0.0  0.0  0.0  0.0  0.0  0.0  …   0.0         0.0         0.0\n",
       " 0.0  0.0  0.0  0.0  0.0  0.0  0.0     -0.164794   -0.167476   -0.170247\n",
       " 0.0  0.0  0.0  0.0  0.0  0.0  0.0      0.0708796   0.0721145   0.0731258\n",
       " 0.0  0.0  0.0  0.0  0.0  0.0  0.0      0.0         0.0         0.0\n",
       " 0.0  0.0  0.0  0.0  0.0  0.0  0.0      0.0         0.0         0.0"
      ]
     },
     "execution_count": 34,
     "metadata": {},
     "output_type": "execute_result"
    }
   ],
   "source": [
    "Matrix(modelfit.betas)"
   ]
  },
  {
   "cell_type": "markdown",
   "id": "0c54e6b2",
   "metadata": {},
   "source": [
    "We can calculate the number of non-zero coefficients for the genetic predictors at each value of λ:"
   ]
  },
  {
   "cell_type": "code",
   "execution_count": 16,
   "id": "ad06fff8",
   "metadata": {},
   "outputs": [
    {
     "data": {
      "text/plain": [
       "1×100 adjoint(::Vector{Int64}) with eltype Int64:\n",
       " 0  1  1  2  2  3  4  6  7  7  8  9  …  1142  1145  1145  1148  1150  1154"
      ]
     },
     "execution_count": 16,
     "metadata": {},
     "output_type": "execute_result"
    }
   ],
   "source": [
    "[length(findall(modelfit.betas[:, j] .!= 0)) for j in 1:size(modelfit.betas, 2)]'"
   ]
  },
  {
   "cell_type": "markdown",
   "id": "b7b38361",
   "metadata": {},
   "source": [
    "To find the optimal λ, we can use AIC or BIC as model selection criteria:"
   ]
  },
  {
   "cell_type": "code",
   "execution_count": 17,
   "id": "f099d645",
   "metadata": {},
   "outputs": [
    {
     "name": "stdout",
     "output_type": "stream",
     "text": [
      "[38.45282781207581, 61.227776080476154]"
     ]
    }
   ],
   "source": [
    "pglmmAIC = PenalizedGLMM.GIC(modelfit, :AIC)\n",
    "pglmmBIC = PenalizedGLMM.GIC(modelfit, :BIC);\n",
    "print(modelfit.lambda[[pglmmAIC, pglmmBIC]])"
   ]
  },
  {
   "cell_type": "markdown",
   "id": "64f5737d",
   "metadata": {},
   "source": [
    "The estimated values for the intercept and non-genetic covariates are stored in `modelfit.a0` and `modelfit.alphas` respectively:"
   ]
  },
  {
   "cell_type": "code",
   "execution_count": 22,
   "id": "48a1563e",
   "metadata": {},
   "outputs": [
    {
     "data": {
      "text/plain": [
       "3×100 Matrix{Float64}:\n",
       " -1.14681e-13   0.0341377   …  22.6047     22.8143     23.011\n",
       " -5.50032e-15   2.79311e-5     -0.0299055  -0.0304224  -0.0309717\n",
       " -2.3118e-14   -8.56448e-5     -0.162442   -0.163483   -0.164323"
      ]
     },
     "execution_count": 22,
     "metadata": {},
     "output_type": "execute_result"
    }
   ],
   "source": [
    "Matrix([modelfit.a0'; modelfit.alphas])"
   ]
  },
  {
   "cell_type": "markdown",
   "id": "11ca8db7",
   "metadata": {},
   "source": [
    "## 3. Polygenic Risk Score (PRS)\n",
    "\n",
    "We can calculate a PRS for each individual in the test set using the predict function. By default, predictions are obtained on the full lasso path, but it is also possible to provide a vector containing indices for the values of the regularization parameter λ. For example, we can predict a PRS for each individual in the test set using the estimated coefficients from the models obtained by using AIC and BIC respectively:"
   ]
  },
  {
   "cell_type": "code",
   "execution_count": 26,
   "id": "864be8b0",
   "metadata": {},
   "outputs": [],
   "source": [
    "using Latexify\n",
    "yhat = PenalizedGLMM.predict(modelfit\n",
    "                            ,covfile\n",
    "                            ,grmfile\n",
    "                            ,plinkfile\n",
    "                            ,covrowinds = testrowinds\n",
    "                            ,covars = [\"AGE\", \"SEX\"]\n",
    "                            ,geneticrowinds = testrowinds\n",
    "                            ,grmrowinds = testrowinds\n",
    "                            ,grmcolinds = trainrowinds\n",
    "                            ,s = [pglmmAIC, pglmmBIC]\n",
    "                            ,outtype = :prob\n",
    "                            );"
   ]
  },
  {
   "cell_type": "markdown",
   "id": "bd9f7ad8",
   "metadata": {},
   "source": [
    "The predicted probabilities for the first 5 subjects are equal to:"
   ]
  },
  {
   "cell_type": "code",
   "execution_count": 27,
   "id": "787baca4",
   "metadata": {},
   "outputs": [
    {
     "data": {
      "text/latex": [
       "\\begin{tabular}\n",
       "{r | r | r}\n",
       "IID & AIC & BIC \\\\\n",
       "\\hline\n",
       "HG00110 & 0.3479 & 0.3332 \\\\\n",
       "HG00113 & 0.3687 & 0.3455 \\\\\n",
       "HG00121 & 0.3261 & 0.3154 \\\\\n",
       "HG00130 & 0.4837 & 0.3726 \\\\\n",
       "HG00132 & 0.1856 & 0.2237 \\\\\n",
       "\\end{tabular}\n"
      ],
      "text/markdown": [
       "|     IID |    AIC |    BIC |\n",
       "| -------:| ------:| ------:|\n",
       "| HG00110 | 0.3479 | 0.3332 |\n",
       "| HG00113 | 0.3687 | 0.3455 |\n",
       "| HG00121 | 0.3261 | 0.3154 |\n",
       "| HG00130 | 0.4837 | 0.3726 |\n",
       "| HG00132 | 0.1856 | 0.2237 |\n"
      ],
      "text/plain": [
       "      IID    AIC    BIC\n",
       "  ––––––– –––––– ––––––\n",
       "  HG00110 0.3479 0.3332\n",
       "  HG00113 0.3687 0.3455\n",
       "  HG00121 0.3261 0.3154\n",
       "  HG00130 0.4837 0.3726\n",
       "  HG00132 0.1856 0.2237"
      ]
     },
     "execution_count": 27,
     "metadata": {},
     "output_type": "execute_result"
    }
   ],
   "source": [
    "DataFrame(hcat(covdf.IID[testrowinds], yhat)[1:5, :], [:IID, :AIC, :BIC]) |> \n",
    "    x-> latexify(x, fmt = \"%5.4f\", latex = false)"
   ]
  },
  {
   "cell_type": "markdown",
   "id": "463eebc1",
   "metadata": {},
   "source": [
    "We can determine which model provides the best prediction accuracy by comparing AUCs for the PRSs obtained via AIC and BIC. We use the [ROCAnalysis.jl](https://juliapackages.com/p/rocanalysis) package to calculate AUC for each model:"
   ]
  },
  {
   "cell_type": "code",
   "execution_count": 35,
   "id": "785de14f",
   "metadata": {},
   "outputs": [
    {
     "data": {
      "text/latex": [
       "\\begin{tabular}\n",
       "{r | r | r}\n",
       "{\\textasciitilde} & AIC & BIC \\\\\n",
       "\\hline\n",
       "AUC & 0.7416 & 0.7414 \\\\\n",
       "\\end{tabular}\n"
      ],
      "text/markdown": [
       "|   ~ |    AIC |    BIC |\n",
       "| ---:| ------:| ------:|\n",
       "| AUC | 0.7416 | 0.7414 |\n"
      ],
      "text/plain": [
       "    ~    AIC    BIC\n",
       "  ––– –––––– ––––––\n",
       "  AUC 0.7416 0.7414"
      ]
     },
     "execution_count": 35,
     "metadata": {},
     "output_type": "execute_result"
    }
   ],
   "source": [
    "using ROCAnalysis\n",
    "ctrls = (covdf[testrowinds,:y] .== 0)\n",
    "cases = (covdf[testrowinds,:y] .== 1)\n",
    "\n",
    "[ROCAnalysis.auc(roc(yhat[ctrls, i], yhat[cases, i])) for i in 1:2]' |> \n",
    "    x-> DataFrame(hcat(\"AUC\", x), [:~, :AIC, :BIC]) |> x-> latexify(x, fmt = \"%5.4f\", latex = false)"
   ]
  },
  {
   "cell_type": "markdown",
   "id": "a1777b0f",
   "metadata": {},
   "source": [
    "We see that the models based on AIC and BIC resulted in the same higher prediction accuracy, but the model based on BIC has selected 10 times less predictors than the model based on AIC:"
   ]
  },
  {
   "cell_type": "code",
   "execution_count": 29,
   "id": "40c78612",
   "metadata": {},
   "outputs": [
    {
     "data": {
      "text/latex": [
       "\\begin{tabular}\n",
       "{r | r | r}\n",
       "{\\textasciitilde} & AIC & BIC \\\\\n",
       "\\hline\n",
       "Number of predictors & 101 & 9 \\\\\n",
       "\\end{tabular}\n"
      ],
      "text/markdown": [
       "|                    ~ | AIC | BIC |\n",
       "| --------------------:| ---:| ---:|\n",
       "| Number of predictors | 101 |   9 |\n"
      ],
      "text/plain": [
       "                     ~ AIC BIC\n",
       "  –––––––––––––––––––– ––– –––\n",
       "  Number of predictors 101   9"
      ]
     },
     "execution_count": 29,
     "metadata": {},
     "output_type": "execute_result"
    }
   ],
   "source": [
    "[length(findall(modelfit.betas[:,k] .!= 0)) for k in (pglmmAIC, pglmmBIC)]' |> \n",
    "    x-> DataFrame(hcat(\"Number of predictors\", x), [:~, :AIC, :BIC]) |> x-> latexify(x, fmt = \"%5.0f\", latex = false)"
   ]
  },
  {
   "cell_type": "markdown",
   "id": "0b06a05d",
   "metadata": {},
   "source": [
    "If we know which predictors are truly causal (for simulated data), then we can compare the true positive rate (TPR), false positive rate (FPR) and false discovery rate (FDR) of each model selection strategy:"
   ]
  },
  {
   "cell_type": "code",
   "execution_count": 30,
   "id": "cb4e147f",
   "metadata": {},
   "outputs": [
    {
     "data": {
      "text/latex": [
       "\\begin{tabular}\n",
       "{r | r | r | r}\n",
       "Model & TPR & FPR & FDR \\\\\n",
       "\\hline\n",
       "AIC & 0.3000 & 0.0174 & 0.8515 \\\\\n",
       "BIC & 0.1400 & 0.0004 & 0.2222 \\\\\n",
       "\\end{tabular}\n"
      ],
      "text/markdown": [
       "| Model |    TPR |    FPR |    FDR |\n",
       "| -----:| ------:| ------:| ------:|\n",
       "|   AIC | 0.3000 | 0.0174 | 0.8515 |\n",
       "|   BIC | 0.1400 | 0.0004 | 0.2222 |\n"
      ],
      "text/plain": [
       "  Model    TPR    FPR    FDR\n",
       "  ––––– –––––– –––––– ––––––\n",
       "    AIC 0.3000 0.0174 0.8515\n",
       "    BIC 0.1400 0.0004 0.2222"
      ]
     },
     "execution_count": 30,
     "metadata": {},
     "output_type": "execute_result"
    }
   ],
   "source": [
    "betas = CSV.read(datadir * \"betas.txt\", DataFrame)\n",
    "true_betas = findall(betas.beta .!= 0)\n",
    "\n",
    "AIC_betas = findall(modelfit.betas[:,pglmmAIC] .!= 0)\n",
    "BIC_betas = findall(modelfit.betas[:,pglmmBIC] .!= 0);\n",
    "\n",
    "TPR = [length(intersect(true_betas, x)) / length(true_betas) for x in (AIC_betas, BIC_betas)]' \n",
    "\n",
    "FPR = [(length(x) - length(intersect(true_betas, x))) / (size(modelfit.betas, 1) - length(true_betas)) for x in (AIC_betas, BIC_betas)]'\n",
    "\n",
    "FDR = [(length(x) - length(intersect(true_betas, x))) / length(x) for x in (AIC_betas, BIC_betas)]'\n",
    "\n",
    "DataFrame(hcat([\"AIC\", \"BIC\"], [TPR; FPR; FDR]'), [:Model, :TPR, :FPR, :FDR]) |> x-> latexify(x, fmt = \"%5.4f\", latex = false)"
   ]
  },
  {
   "cell_type": "markdown",
   "id": "a6e4cf2f",
   "metadata": {},
   "source": [
    "## 4. Joint selection of main genetic effects and gene by environment (GEI) effects"
   ]
  },
  {
   "cell_type": "markdown",
   "id": "7027fa6c",
   "metadata": {},
   "source": [
    "To perform joint selection of main genetic and GEI effects in sparse regularized logistic mixed models, one simply need to define a binary exposure variable for which it is believed there might important interaction effects with genetic predictors. \n",
    "\n",
    "Instead of fitting the null and sparse group lasso models separately, we use the `pglmm_cv` function which allows to perform cross-validation. We use sex as a dummy for environmental exposure, and include a second kinship matrix that accounts for the similarity of individuals due to random polygenic GEI effects. The `rho` parameter controls the relative sparsity of the GEI effects for each SNP, and we suggest testing a range of values from 0 to 0.9."
   ]
  },
  {
   "cell_type": "code",
   "execution_count": 36,
   "id": "d1b763ad",
   "metadata": {},
   "outputs": [],
   "source": [
    "modelfit = pglmm_cv(@formula(y ~ AGE + SEX), \n",
    "                    covfile, \n",
    "                    grmfile, \n",
    "                    plinkfile, \n",
    "                    covrowinds = trainrowinds, \n",
    "                    grminds = trainrowinds, \n",
    "                    geneticrowinds = trainrowinds, \n",
    "                    GEIvar = \"SEX\", \n",
    "                    GEIkin = true, \n",
    "                    rho = [0, 0.5, 0.9], \n",
    "                    nlambda = 20,\n",
    "                    nfolds = 4\n",
    ");"
   ]
  },
  {
   "cell_type": "markdown",
   "id": "6e8cb282",
   "metadata": {},
   "source": [
    "We obtain a solution path for each value of `rho`:"
   ]
  },
  {
   "cell_type": "code",
   "execution_count": 57,
   "id": "1ffc4567",
   "metadata": {},
   "outputs": [
    {
     "data": {
      "text/plain": [
       "3-element Vector{PenalizedGLMM.pglmmPath{Binomial{Float64}, SparseArrays.SparseVector{Float64, Int64}, SparseArrays.SparseMatrixCSC{Float64, Int64}, Float64, Vector{Float64}, Matrix{Float64}}}:\n",
       " Logistic Solution Path (20 solutions for 10002 predictors):\n",
       "──────────────────────────────────\n",
       "       df   pct_dev         λ    ρ\n",
       "──────────────────────────────────\n",
       " [1]    2  0.188183  102.939   0.0\n",
       " [2]    4  0.18935    98.2606  0.0\n",
       " [3]    4  0.190446   93.7945  0.0\n",
       " [4]    6  0.191791   89.5314  0.0\n",
       " [5]    6  0.193525   85.4621  0.0\n",
       " [6]    8  0.195076   81.5777  0.0\n",
       " [7]   12  0.201035   77.8699  0.0\n",
       " [8]   12  0.204125   74.3306  0.0\n",
       " [9]   16  0.207401   70.9521  0.0\n",
       "[10]   18  0.212282   67.7272  0.0\n",
       "[11]   18  0.216017   64.6489  0.0\n",
       "[12]   20  0.21952    61.7105  0.0\n",
       "[13]   26  0.224584   58.9057  0.0\n",
       "[14]   28  0.228649   56.2283  0.0\n",
       "[15]   40  0.234235   53.6727  0.0\n",
       "[16]   56  0.242755   51.2332  0.0\n",
       "[17]   76  0.252626   48.9045  0.0\n",
       "[18]   94  0.262022   46.6818  0.0\n",
       "[19]  124  0.275344   44.56    0.0\n",
       "[20]  138  0.287114   42.5347  0.0\n",
       "──────────────────────────────────\n",
       " Logistic Solution Path (20 solutions for 10002 predictors):\n",
       "─────────────────────────────────\n",
       "      df   pct_dev         λ    ρ\n",
       "─────────────────────────────────\n",
       " [1]   2  0.188183  205.879   0.5\n",
       " [2]   3  0.189288  196.521   0.5\n",
       " [3]   3  0.19037   187.589   0.5\n",
       " [4]   4  0.191383  179.063   0.5\n",
       " [5]   4  0.193078  170.924   0.5\n",
       " [6]   4  0.194616  163.155   0.5\n",
       " [7]   7  0.196886  155.74    0.5\n",
       " [8]   8  0.200135  148.661   0.5\n",
       " [9]   9  0.203714  141.904   0.5\n",
       "[10]   9  0.207429  135.454   0.5\n",
       "[11]  10  0.211254  129.298   0.5\n",
       "[12]  11  0.214844  123.421   0.5\n",
       "[13]  14  0.218793  117.811   0.5\n",
       "[14]  14  0.222961  112.457   0.5\n",
       "[15]  16  0.226801  107.345   0.5\n",
       "[16]  32  0.233004  102.466   0.5\n",
       "[17]  39  0.240634   97.8091  0.5\n",
       "[18]  47  0.249146   93.3635  0.5\n",
       "[19]  58  0.25873    89.12    0.5\n",
       "[20]  74  0.269658   85.0694  0.5\n",
       "─────────────────────────────────\n",
       " Logistic Solution Path (20 solutions for 10002 predictors):\n",
       "─────────────────────────────────\n",
       "      df   pct_dev         λ    ρ\n",
       "─────────────────────────────────\n",
       " [1]   2  0.188183  1029.39   0.9\n",
       " [2]   3  0.189288   982.606  0.9\n",
       " [3]   3  0.19037    937.945  0.9\n",
       " [4]   4  0.191383   895.314  0.9\n",
       " [5]   4  0.193078   854.621  0.9\n",
       " [6]   4  0.194616   815.777  0.9\n",
       " [7]   7  0.196886   778.699  0.9\n",
       " [8]   8  0.200135   743.306  0.9\n",
       " [9]   9  0.203714   709.521  0.9\n",
       "[10]   9  0.207429   677.272  0.9\n",
       "[11]  10  0.211254   646.489  0.9\n",
       "[12]  11  0.214844   617.105  0.9\n",
       "[13]  14  0.218793   589.057  0.9\n",
       "[14]  14  0.222961   562.283  0.9\n",
       "[15]  16  0.226801   536.727  0.9\n",
       "[16]  32  0.233004   512.332  0.9\n",
       "[17]  38  0.240634   489.045  0.9\n",
       "[18]  46  0.249106   466.818  0.9\n",
       "[19]  57  0.258614   445.6    0.9\n",
       "[20]  72  0.269464   425.347  0.9\n",
       "─────────────────────────────────"
      ]
     },
     "execution_count": 57,
     "metadata": {},
     "output_type": "execute_result"
    }
   ],
   "source": [
    "modelfit.path"
   ]
  },
  {
   "cell_type": "code",
   "execution_count": 70,
   "id": "4aff4309",
   "metadata": {},
   "outputs": [
    {
     "name": "stdout",
     "output_type": "stream",
     "text": [
      "PenalizedGLMM.TuningParms[value = 0.0, index = 1, value = 48.90454152938238, index = 17]"
     ]
    }
   ],
   "source": [
    "print([modelfit.rho; modelfit.lambda])"
   ]
  },
  {
   "cell_type": "markdown",
   "id": "b60eca22",
   "metadata": {},
   "source": [
    "The best model based on cross-validation is found for $\\rho=0$ and $\\lambda=48.9045$."
   ]
  },
  {
   "cell_type": "code",
   "execution_count": 69,
   "id": "99812119",
   "metadata": {},
   "outputs": [
    {
     "name": "stdout",
     "output_type": "stream",
     "text": [
      "[37 37]"
     ]
    }
   ],
   "source": [
    "print([length(findall(modelfit.path[1].betas[:, 17] .!= 0)); \n",
    "       length(findall(modelfit.path[1].gammas[:, 17] .!= 0))]')"
   ]
  },
  {
   "cell_type": "markdown",
   "id": "2079fd9f",
   "metadata": {},
   "source": [
    "The number of selected main effects and GEI effects for the best model are equal, since when $\\rho=0$ the sparse group lasso is equivalent to a group lasso. Finally, we can obtain predictions on the test set for the full lasso path using the `predict` function:"
   ]
  },
  {
   "cell_type": "code",
   "execution_count": 83,
   "id": "36232198",
   "metadata": {},
   "outputs": [
    {
     "data": {
      "text/plain": [
       "0.32283308119494697"
      ]
     },
     "execution_count": 83,
     "metadata": {},
     "output_type": "execute_result"
    }
   ],
   "source": [
    "yhat_path = PenalizedGLMM.predict(modelfit.path\n",
    "                                ,covfile\n",
    "                                ,grmfile\n",
    "                                ,plinkfile\n",
    "                                ,covrowinds = testrowinds\n",
    "                                ,covrowtraininds = trainrowinds\n",
    "                                ,covars = [\"AGE\", \"SEX\"]\n",
    "                                ,GEIvar = \"SEX\"\n",
    "                                ,GEIkin = true\n",
    "                                ,geneticrowinds = testrowinds\n",
    "                                ,grmrowinds = testrowinds\n",
    "                                ,grmcolinds = trainrowinds\n",
    "                                ,outtype = :prob\n",
    "                                );"
   ]
  }
 ],
 "metadata": {
  "kernelspec": {
   "display_name": "Julia 1.8.5",
   "language": "julia",
   "name": "julia-1.8"
  },
  "language_info": {
   "file_extension": ".jl",
   "mimetype": "application/julia",
   "name": "julia",
   "version": "1.8.5"
  }
 },
 "nbformat": 4,
 "nbformat_minor": 5
}
